{
 "cells": [
  {
   "cell_type": "code",
   "execution_count": 26,
   "metadata": {
    "collapsed": true,
    "pycharm": {
     "name": "#%%\n"
    }
   },
   "outputs": [],
   "source": [
    "import numpy as np\n",
    "import pandas as pd\n",
    "\n",
    "reader = pd.read_csv('train.csv', chunksize=10000)\n",
    "df = next(reader)\n",
    "df = df.replace(np.nan, '')"
   ]
  },
  {
   "cell_type": "code",
   "source": [
    "from classifier import NaiveBayesMessageClassifier\n",
    "\n",
    "precision = 20\n",
    "bench_results = []\n",
    "\n",
    "for i in range(1, precision):\n",
    "    k = i / precision\n",
    "    train_set_slice = slice(0, round(df.shape[0] * k))\n",
    "    test_set_slice = slice(round(df.shape[0] * k), df.shape[0])\n",
    "\n",
    "    model = NaiveBayesMessageClassifier()\n",
    "    model.fit(df['selected_text'][train_set_slice], df['sentiment'][train_set_slice])\n",
    "\n",
    "    prediction = model.predict(df['selected_text'][test_set_slice])\n",
    "    accuracy = (prediction == df['sentiment'][test_set_slice]).mean()\n",
    "\n",
    "    bench_results.append((df.shape[0], k, accuracy))\n",
    "\n",
    "print('Train part, Accuracy')\n",
    "for item in bench_results:\n",
    "    print(f'{item[1]}, {item[2]}')"
   ],
   "metadata": {
    "collapsed": false,
    "pycharm": {
     "name": "#%%\n"
    }
   },
   "execution_count": 27,
   "outputs": [
    {
     "name": "stdout",
     "output_type": "stream",
     "text": [
      "Train part, Accuracy\n",
      "0.05, 0.5722105263157895\n",
      "0.1, 0.601\n",
      "0.15, 0.6051764705882353\n",
      "0.2, 0.623\n",
      "0.25, 0.6197333333333334\n",
      "0.3, 0.6218571428571429\n",
      "0.35, 0.6212307692307693\n",
      "0.4, 0.6188333333333333\n",
      "0.45, 0.6194545454545455\n",
      "0.5, 0.6136\n",
      "0.55, 0.6177777777777778\n",
      "0.6, 0.6165\n",
      "0.65, 0.6174285714285714\n",
      "0.7, 0.612\n",
      "0.75, 0.6072\n",
      "0.8, 0.6115\n",
      "0.85, 0.61\n",
      "0.9, 0.604\n",
      "0.95, 0.616\n"
     ]
    }
   ]
  },
  {
   "cell_type": "code",
   "execution_count": 29,
   "outputs": [
    {
     "name": "stdout",
     "output_type": "stream",
     "text": [
      "!#SEe waT %%%% I Mean bOuT ) FoLL0w fRiiDaYs... It`S cALLed LoSe f0LloWeRs FridAy... smH\n",
      "see wat i mean bout foll0w friidays it`s called lose f0llowers friday smh\n"
     ]
    }
   ],
   "source": [
    "print('!#SEe waT %%%% I Mean bOuT ) FoLL0w fRiiDaYs... It`S cALLed LoSe f0LloWeRs FridAy... smH')\n",
    "print(NaiveBayesMessageClassifier.clean_message(\n",
    "    'SEe waT I Mean bOuT FoLL0w fRiiDaYs... It`S cALLed LoSe f0LloWeRs FridAy... smH'))"
   ],
   "metadata": {
    "collapsed": false,
    "pycharm": {
     "name": "#%%\n"
    }
   }
  }
 ],
 "metadata": {
  "kernelspec": {
   "display_name": "Python 3",
   "language": "python",
   "name": "python3"
  },
  "language_info": {
   "codemirror_mode": {
    "name": "ipython",
    "version": 2
   },
   "file_extension": ".py",
   "mimetype": "text/x-python",
   "name": "python",
   "nbconvert_exporter": "python",
   "pygments_lexer": "ipython2",
   "version": "2.7.6"
  }
 },
 "nbformat": 4,
 "nbformat_minor": 0
}